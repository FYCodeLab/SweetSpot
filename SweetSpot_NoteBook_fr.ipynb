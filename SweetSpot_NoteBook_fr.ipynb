{
  "cells": [
    {
      "cell_type": "markdown",
      "metadata": {
        "id": "view-in-github",
        "colab_type": "text"
      },
      "source": [
        "<a href=\"https://colab.research.google.com/github/FYCodeLab/SweetSpot/blob/main/SweetSpot_NoteBook_fr.ipynb\" target=\"_parent\"><img src=\"https://colab.research.google.com/assets/colab-badge.svg\" alt=\"Open In Colab\"/></a>"
      ]
    },
    {
      "cell_type": "markdown",
      "metadata": {
        "id": "xldMD_Ijf4PM"
      },
      "source": [
        "# ![SweetSpot Intro](https://github.com/FYCodeLab/SweetSpot/blob/main/assets/GoogleColab/introsweet4.png?raw=true)\n",
        "*Un notebook facile qui vous apprendra à utiliser le langage de programmation R, utilisé dans tous les laboratoires de recherche pour faire des calculs et des graphiques. Modifiez le code et jouez avec, c'est la meileure façàn d'apprendre.*\n"
      ]
    },
    {
      "cell_type": "markdown",
      "metadata": {
        "id": "UsmJPAQnXPQW"
      },
      "source": [
        "### 📚 **CONTEXTE**\n",
        "\n",
        "Le 25 mars 2025, dans le cadre de la conférence interprofessionnelle  \n",
        "[« Intelligence Artificielle et Biotechnologies »](https://www.supbiotech.fr/venir-nous-rencontrer/conference-ia-biotechnologies/),  \n",
        "un sondage a été effectué auprès des élèves.\n",
        "\n",
        "---\n",
        "\n",
        "**🧠 La question posée était :**  \n",
        "*« Combien de bonbons y a-t-il dans ce bocal ? »*\n",
        "\n",
        "---\n",
        "\n",
        "🎯 **Objectif de l’activité :**  \n",
        "Vérifier la théorie de la **sagesse des foules**, selon laquelle la **moyenne des estimations individuelles**  \n",
        "peut se rapprocher étonnamment de la **valeur réelle**,  \n",
        "même si chaque estimation prise isolément peut être très imprécise.\n",
        "\n",
        "📊 Les résultats ont été analysés à l’aide du programme *SweetSpot* (en R)  \n",
        "pour visualiser la distribution des réponses, détecter les valeurs aberrantes,  \n",
        "et illustrer ce phénomène par une **approche interactive de la science des données**.\n",
        "\n",
        "---\n",
        "\n",
        "![Bocal de bonbons](https://raw.githubusercontent.com/FYCodeLab/SweetSpot/main/assets/GoogleColab/bocal6.jpg)\n"
      ]
    },
    {
      "cell_type": "markdown",
      "metadata": {
        "id": "MorrzcmuV9tx"
      },
      "source": [
        "### 📌 **Mode d'emploi de Google Colab**\n",
        "\n"
      ]
    },
    {
      "cell_type": "markdown",
      "metadata": {
        "id": "fWjm8iHboxsH"
      },
      "source": [
        "![Instructions pour l'exercice](https://raw.githubusercontent.com/FYCodeLab/SweetSpot/main/assets/GoogleColab/instructions4png.png) \\\n",
        "ㅤㅤㅤㅤㅤㅤㅤㅤㅤㅤㅤㅤㅤㅤ[💻 FYcodelab github](https://fycodelabs.github.io)\n",
        "\n",
        "\n"
      ]
    },
    {
      "cell_type": "markdown",
      "metadata": {
        "id": "v7P-wm9UM2I5"
      },
      "source": [
        "###‎\n",
        "<p align=\"left\">\n",
        "  <img src=\"https://github.com/FYCodeLab/SweetSpot/blob/main/assets/GoogleColab/package.png?raw=true\" alt=\"SweetSpot Intro\" width=\"600\">\n",
        "</p>\n",
        "\n"
      ]
    },
    {
      "cell_type": "markdown",
      "metadata": {
        "id": "8pOYKfVYSpsN"
      },
      "source": [
        "### **1. Installation des packages nécessaires pour ce programme**\n",
        "Cliquez sur **[▶]** pour exécuter le code."
      ]
    },
    {
      "cell_type": "code",
      "execution_count": null,
      "metadata": {
        "id": "BkfyhlZvf4PP"
      },
      "outputs": [],
      "source": [
        "# 📦 Installer les packages nécessaires:\n",
        "# 📊 ggplot2 est un package excellent qui permet de créer des graphiques élégants et puissants en R\n",
        "# 🧹 dplyr est une bibliothèque très pratique pour manipuler et filtrer des données facilement\n",
        "install.packages(\"ggplot2\")\n",
        "install.packages(\"dplyr\")"
      ]
    },
    {
      "cell_type": "markdown",
      "metadata": {
        "id": "MjIGPbT3qKVn"
      },
      "source": [
        "### **2. Charger les packages en mémoire**\n",
        "Cliquez sur **[▶]** pour exécuter le code."
      ]
    },
    {
      "cell_type": "code",
      "execution_count": null,
      "metadata": {
        "id": "gEW__0_sf4PS"
      },
      "outputs": [],
      "source": [
        "# 📚 Charger les bibliothèques pour pouvoir les utiliser\n",
        "library(ggplot2)\n",
        "library(dplyr)"
      ]
    },
    {
      "cell_type": "markdown",
      "metadata": {
        "id": "P72EvVwAwO39"
      },
      "source": [
        "##  <p align=\"left\">\n",
        "  <img src=\"https://github.com/FYCodeLab/SweetSpot/blob/main/assets/GoogleColab/data.png?raw=true\" alt=\"SweetSpot Intro\" width=\"500\">\n",
        "</p>\n"
      ]
    },
    {
      "cell_type": "markdown",
      "metadata": {
        "id": "qjLjLEe9f4PT"
      },
      "source": [
        "### **1. Télécharger le fichier de données**\n",
        "Le fichier `DATASTUDENTS.TXT` contient les données collectées lors du sondage.\n",
        "vous guide pour utiliser R pour analyser un tableau de données et pour faire un graphe.\n",
        "Les données sont dans un fichier texte (txt) appelé DATASTUDENTS.TXT, séparées par une tabulation.\\\n",
        "Par exemple : \\\n",
        "```\n",
        "Charles   145\n",
        "Henri  123\n",
        "```\n",
        "\n",
        "Le fichier doit être importé dans Colab. Pour voir les fichiers, cliquez sur l'icone **🗀** situé dans la colonne à gauche. Vous pouvez mettre tous les fichiers que vous voulez (dans la limite de 70Gb ☺)\n",
        "Pour vous éviter l'effort de glisser-déposer un fichier vous mêmes, on va le faire pour vous grace à la fonction R `wget` qui va télécharger le fichier automatiquement pour vous.\n",
        "\n"
      ]
    },
    {
      "cell_type": "code",
      "execution_count": null,
      "metadata": {
        "id": "qqykb-_Gtv4s"
      },
      "outputs": [],
      "source": [
        "# 📥 Télécharge le fichier DATASTUDENTS.TXT depuis GitHub vers le dossier de travail de Colab\n",
        "download.file(\"https://raw.githubusercontent.com/FYCodeLab/SweetSpot/main/assets/GoogleColab/DATASTUDENTS.TXT\",\n",
        "              destfile = \"DATASTUDENTS.TXT\")\n",
        "\n",
        "# ✅ Message pour l'utilisateur\n",
        "cat(\"✅ Le fichier DATASTUDENTS.TXT a été téléchargé.\\n📁 Vérifiez dans le panneau 'Fichiers' (à gauche dans Colab) qu'il est bien présent.\\n\")\n"
      ]
    },
    {
      "cell_type": "markdown",
      "metadata": {
        "id": "RFrPU-0lv1BH"
      },
      "source": [
        "### **2. Lire le fichier**\n",
        "Une fois le fichier `DATASTUDENTS.TXT` téléchargé : il faut maintenant le lire et le rentrer en mémoire grâce à la fonction `read`.\n"
      ]
    },
    {
      "cell_type": "code",
      "execution_count": null,
      "metadata": {
        "id": "cnHbfXymf4PT"
      },
      "outputs": [],
      "source": [
        "# 📥 On lit le fichier texte en précisant que la première ligne contient les noms de colonnes,\n",
        "#    et que les colonnes sont séparées par des tabulations \"\\t\"\n",
        "data <- read.table(\"DATASTUDENTS.TXT\", header = FALSE, sep = \"\\t\")\n",
        "\n",
        "# 🏷️ On renomme les deux premières colonnes pour qu'elles soient plus simples à utiliser : \"Nom\" et \"Estimation\"\n",
        "colnames(data) <- c(\"Nom\", \"Estimation\")\n",
        "\n",
        "# 🔢 On convertit les valeurs de la colonne \"Estimation\" en nombres, au cas où elles auraient été lues comme du texte\n",
        "data$Estimation <- as.numeric(data$Estimation)\n",
        "\n",
        "\n",
        "# 🔍 Filtrage des données :\n",
        "# - is.na(...) détecte les valeurs manquantes\n",
        "# - !is.na(...) garde celles qui ne sont PAS manquantes (! signifie NON)\n",
        "# - data$Estimation > 0 garde seulement les valeurs strictement positives\n",
        "# 👉 Bref on ne garde que les lignes valides (pas NA et > 0)\n",
        "\n",
        "data <- data[!is.na(data$Estimation) & data$Estimation > 0, ]\n",
        "\n",
        "if (nrow(data) > 0) {\n",
        "  cat(\"✅ Données chargées correctement avec\", nrow(data), \"lignes valides.\\n\")\n",
        "}"
      ]
    },
    {
      "cell_type": "markdown",
      "metadata": {
        "id": "ML-50eO3ErOA"
      },
      "source": [
        "#<p align=\"center\">\n",
        "  <img src=\"https://github.com/FYCodeLab/SweetSpot/blob/main/assets/GoogleColab/calcul2.png?raw=true\" alt=\"SweetSpot Intro\" width=\"500\">\n",
        "</p>\n"
      ]
    },
    {
      "cell_type": "markdown",
      "metadata": {
        "id": "Ft88b2GLEufN"
      },
      "source": [
        "*Effectuons maintenant quelques calculs sur les données. Avec R, ce n'est pas trop difficile, c'est fait pour...*"
      ]
    },
    {
      "cell_type": "markdown",
      "metadata": {
        "id": "brbM9bV1t59g"
      },
      "source": [
        "### **1. Quelques calculs de base**"
      ]
    },
    {
      "cell_type": "code",
      "execution_count": null,
      "metadata": {
        "id": "gNpQxYFjE2Cu"
      },
      "outputs": [],
      "source": [
        "# 📊 On calcule les statistiques de base grace aux fonctions mean(), median(), min(), max()\n",
        "nb_reponses <- nrow(data)\n",
        "moyenne <- mean(data$Estimation)\n",
        "mediane <- median(data$Estimation)\n",
        "minimum <- min(data$Estimation)\n",
        "maximum <- max(data$Estimation)\n",
        "\n",
        "# ✨ On affiche les résultats :\n",
        "cat(\"🧮 Nombre total de réponses :\", nb_reponses, \"\\n\\n\")\n",
        "\n",
        "cat(\"❓ Quelle est la moyenne des estimations ?\\n\")\n",
        "cat(\"➡️ Moyenne :\", round(moyenne, 0), \"\\n\\n\")\n",
        "\n",
        "cat(\"❓ Quelle est la médiane des estimations ?\\n\")\n",
        "cat(\"➡️ Médiane :\", round(mediane, 0), \"\\n\\n\")\n",
        "\n",
        "cat(\"❓ Quelle est la plus petite estimation donnée ?\\n\")\n",
        "cat(\"➡️ Minimum :\", minimum, \"\\n\\n\")\n",
        "\n",
        "cat(\"❓ Quelle est la plus grande estimation donnée ?\\n\")\n",
        "cat(\"➡️ Maximum :\", maximum, \"\\n\")\n"
      ]
    },
    {
      "cell_type": "markdown",
      "metadata": {
        "id": "jZ8rsZcME2rP"
      },
      "source": [
        "\n",
        "### **2. Analyse des données : qui a gagné ?**\n",
        "Maintenant faisons un programmme très simple pour connaitre le nom des eleves qui ont devné le bon nombre de bonbons! Pour information, le  vrai nombre était **247**."
      ]
    },
    {
      "cell_type": "code",
      "execution_count": null,
      "metadata": {
        "id": "40hp8Z_7FcHH"
      },
      "outputs": [],
      "source": [
        "# 🧠 Objectif de ce script :\n",
        "# - Demander à l'utilisateur d'entrer le vrai nombre de bonbons dans le bocal\n",
        "# - Rechercher dans les données les élèves qui ont deviné ce nombre exactement\n",
        "# - Afficher leur(s) nom(s), ou un message si personne n'a trouvé\n",
        "\n",
        "# 🟢 1. Demander à l'utilisateur le bon nombre\n",
        "# La fonction readline() affiche un message et attend que l'utilisateur tape une réponse\n",
        "# On utilise as.numeric() pour convertir la réponse (qui est du texte) en un nombre\n",
        "vrai_nombre <- as.numeric(readline(prompt = \"🍬 Entrez le vrai nombre de bonbons dans le bocal : \"))\n",
        "\n",
        "# 🔍 2. Rechercher les élèves qui ont donné exactement cette estimation\n",
        "# On filtre les lignes où la colonne \"Estimation\" est exactement égale au nombre entré\n",
        "# Puis on extrait la colonne \"Nom\" des gagnants\n",
        "gagnants <- data[data$Estimation == vrai_nombre, \"Nom\"]\n",
        "\n",
        "# 🥳 3. Afficher le ou les gagnants\n",
        "# Si on trouve au moins un nom, on les affiche tous avec un message de félicitations\n",
        "# Sinon, on indique qu'aucun élève n'a deviné juste\n",
        "\n",
        "if (length(gagnants) > 0) {\n",
        "  cat(\"✅ Bravo aux élèves suivants qui ont trouvé exactement\", vrai_nombre, \"bonbons: !\\n \")\n",
        "  cat(\"🏆\", paste(gagnants, collapse = \", \"), \"\\n\")  # Affiche tous les noms sur une ligne\n",
        "} else {\n",
        "  cat(\"😕 Aucun élève n'a donné exactement\", vrai_nombre, \"bonbons.\\n\")\n",
        "}\n"
      ]
    },
    {
      "cell_type": "markdown",
      "metadata": {
        "id": "tT-eS5FHxdqH"
      },
      "source": [
        "#<p align=\"center\">\n",
        "  <img src=\"https://github.com/FYCodeLab/SweetSpot/blob/main/assets/GoogleColab/graphes.png?raw=true\" alt=\"SweetSpot Intro\" width=\"500\">\n",
        "</p>\n"
      ]
    },
    {
      "cell_type": "markdown",
      "metadata": {
        "id": "zH4QbjUIuNyU"
      },
      "source": [
        "*`ggplot` est le package idéal pour faire des graphes de qualité scientifique. Essayez ici de jouer avec (changez les couleurs, les échelles...)*"
      ]
    },
    {
      "cell_type": "markdown",
      "metadata": {
        "id": "cS1fVNqcf4PU"
      },
      "source": [
        "## **📊 Graphique 1 : Nuage de points avec moyenne et médiane**\n",
        " 💡 Essayez de changer la couleur des points, le titre du graphique..."
      ]
    },
    {
      "cell_type": "code",
      "execution_count": null,
      "metadata": {
        "id": "9idaJmFlf4PV"
      },
      "outputs": [],
      "source": [
        "# 📊 On calcule la moyenne des estimations (la fameuse \"moyenne arithmétique\")\n",
        "moyenne <- mean(data$Estimation)\n",
        "\n",
        "# 📊 On calcule la médiane (la valeur du milieu : 50% en plus, 50% en moins)\n",
        "mediane <- median(data$Estimation)\n",
        "\n",
        "# 🟣 On crée une variable Y avec un léger \"jitter\" (brouillage) pour que les points ne se superposent pas complètement sur le graphique\n",
        "data$Y <- jitter(rep(1, nrow(data)), amount = 0.2)\n",
        "\n",
        "# 🖼️ On prépare un graphique avec ggplot2\n",
        "# Chaque point représentera une personne et son estimation, placé aleatoirement sur le long de l'axe des ordonnées\n",
        "\n",
        "# ➕ Important: Dans ggplot2, on construit un graphique en ajoutant des \"couches\"\n",
        "#    Chaque couche est ajoutée avec un \"+\" à la fin de la ligne\n",
        "ggplot(data, aes(x = Estimation, y = Y)) +  # Axe X = estimation, Axe Y = un peu de hasard (jitter) pour mieux voir les points\n",
        "\n",
        "  # ➕ 1re couche : les points violets\n",
        "  # Chaque point représente une estimation faite par un élève\n",
        "  geom_point(color = \"purple\", size = 4) + # Changez la taille des points !\n",
        "\n",
        "  # ➕ Vous pouvez si vous voulez ajouter les noms à coté (retirer le # ci dessous)\n",
        "  # geom_text(aes(label = Nom), hjust = -0.1, size = 4, color = \"black\") +\n",
        "\n",
        "  # ➕ 2e couche : ligne verticale rouge pour la moyenne\n",
        "  geom_vline(xintercept = moyenne, color = \"red\", linetype = \"dashed\") +\n",
        "\n",
        "  # ➕ 3e couche : ligne verticale bleue pour la médiane\n",
        "  geom_vline(xintercept = mediane, color = \"blue\", linetype = \"dashed\") +\n",
        "\n",
        "  # ➕ 4e couche : les titres et étiquettes\n",
        "  # Titre général + nom de l’axe X (on laisse l’axe Y vide car il n’est pas informatif ici)\n",
        "  labs(\n",
        "    title = \"Chaque point = une estimation\",  # Titre du graphique\n",
        "    subtitle = \"rouge=moyenne, bleu=mediane\",                              # Sous titre  du graphique\n",
        "    x = \"Estimation du nombre de bonbons\",                                 # Nom de l’axe X\n",
        "    y = NULL                                                               # Pas de nom pour l’axe Y\n",
        "  )+\n",
        "   # ➕ Ajoutons enfin un theme pour modifier l'apparence du graphe\n",
        "  theme_minimal(base_size = 16)\n"
      ]
    },
    {
      "cell_type": "markdown",
      "metadata": {
        "id": "kLj4AcL_f4PV"
      },
      "source": [
        "## **📊 Graphique 2 :  Histogramme simple**\n",
        "Les données sont \"binned\", c'est à dire regroupées par intervalle\\\n",
        " 💡 Essayez de changer la couleur des histogrammes, le titre du graphique et regardez le résultat. C'est la meileure manière d'apprendre à utiliser l'excellent outil GGPLOT!"
      ]
    },
    {
      "cell_type": "code",
      "execution_count": null,
      "metadata": {
        "id": "oLRCkZ8tzNGT"
      },
      "outputs": [],
      "source": [
        "# 📊 On commence la construction du graphique avec ggplot()\n",
        "# On précise que la variable \"Estimation\" doit aller sur l’axe horizontal (X)\n",
        "# 👉 Cette ligne seule ne trace rien : elle prépare le cadre du graphique.\n",
        "ggplot(data, aes(x = Estimation)) +  # Base du graphique : axe X = donnée Estimation\n",
        "\n",
        "  # ➕ Le symbole \"+\" signifie ici : \"j'ajoute une couche au graphique\"\n",
        "  # 🧱 1ère couche : un histogramme\n",
        "  # Chaque barre regroupe des estimations proches (par tranches de 50)\n",
        "  # Cela nous permet de voir comment les réponses des élèves sont réparties\n",
        "  geom_histogram(\n",
        "    binwidth = 70,                   # ➡️ Jouez avec cette valeur : 10, 25, 100…\n",
        "    fill = \"gold\",                   # ➡️ Changez la couleur de remplissage, il y en a plein : red, orange, orange, gold, orchid, tomato, deeppink, magenta, turquoise, cyan, hotpink, limegreen...\n",
        "    color = \"darkblue\",              # ➡️ Couleur du contour des barres\n",
        "    alpha = 0.7                      # ➡️ Transparence (0 = transparent, 1 = opaque)\n",
        "  ) +\n",
        "\n",
        "   # ➕ On ajoute une 2ème couche : une ligne verticale rouge pour la moyenne\n",
        "   # Elle permet de situer visuellement la \"tendance générale\" des réponses\n",
        "  geom_vline(xintercept = moyenne, color = \"red\", linetype = \"solid\", linewidth = 1.2) + #linetype peut être dashed, dotted ou solid\n",
        "\n",
        "   # ➕ Encore une couche ! Cette fois pour la médiane (ligne bleue)\n",
        "   # Elle montre la valeur \"centrale\" des réponses triées\n",
        "  geom_vline(xintercept = mediane, color = \"blue\", linetype = \"dotted\", linewidth = 1.2) +\n",
        "\n",
        "  # ➕ Dernière couche : on ajoute le titre et les étiquettes des axes\n",
        "  # Cela rend le graphique lisible et compréhensible pour l'utilisateur\n",
        "  labs(\n",
        "    title = \" Distribution des estimations\",          # Titre\n",
        "    subtitle = \"Rouge = moyenne | Bleu = médiane\",    # Sous-Titre\n",
        "    x = \"Estimation du nombre de bonbons\",            # Légende de l’axe des X\n",
        "    y = \"Nombre de réponses\",                         # Légende de l’axe des Y\n",
        "    tag = \"Figure A\"                                  # Légende du graphe\n",
        "  ) +\n",
        "\n",
        "  # ➕ Ajoutons un theme pour modifier l'apparence du graphe\n",
        "  theme_minimal(base_size = 14) +         # ➡️ Essayez aussi : theme_classic(), theme_light()\n",
        "\n",
        "  # 🔧 Options supplémentaires (ex. : rotation des étiquettes, taille...)\n",
        "  theme(\n",
        "    plot.title = element_text(size = 20, face = \"bold\", color = \"red\", hjust = 0.5),\n",
        "    plot.subtitle = element_text(size = 15, face = \"bold\", color = \"darkblue\", hjust = 0.5),\n",
        "    axis.text.x = element_text(size = 15, angle = 0),    # ➡️ Mettez 45 ou 90 pour tester la rotation\n",
        "    axis.text.y = element_text(size = 15),               # ➡️ Mettez 45 ou 90 pour tester la rotation\n",
        "    axis.title.x = element_text(size = 20),              # ➡️ Mettez 16 ou 50 pour tester la taille\n",
        "    axis.title.y = element_text(size = 20),              # ➡️ Mettez 16 ou 50 pour tester la taille\n",
        "    panel.grid.major.y = element_line(color = \"gray80\")\n",
        "  )\n"
      ]
    },
    {
      "cell_type": "markdown",
      "metadata": {
        "id": "tL0s6R7EvRST"
      },
      "source": [
        "###![CHAPITRE 1](https://github.com/FYCodeLab/coding-intro/blob/main/assets/INTRO-Banner-Sondage.png?raw=true)\n",
        "\n",
        "\n",
        "Ce notebook fait partie d'une série de notebooks adressés aux débutants biologistes : [💻 FYcodelab github](https://fycodelabs.github.io)  \n",
        "SVP veuillez répondre au petit sondage anonyme ci dessous."
      ]
    },
    {
      "cell_type": "code",
      "execution_count": null,
      "metadata": {
        "cellView": "form",
        "id": "eBmvSiS1vTcj"
      },
      "outputs": [],
      "source": [
        "# @title Sondage anonyme\n",
        "# @markdown **Petit sondage**\\\n",
        "# @markdown Remplissez les informations ci-dessous et cliquez sur Exécuter ▶ pour envoyer vos réponses.\n",
        "\n",
        "CHAPITRE_COURANT <- \"SweetSpot\"\n",
        "Prenom <- \"frankr\" # @param {type:\"string\"}\n",
        "Nom <- \"yatesr\" # @param {type:\"string\"}\n",
        "Diplome_actuel = 'Professionnel/Diplômé' # @param [\"Professionnel/Diplômé\", \"Prepa Bac+1-2\", \"Inge Bac+3-5\",  \"Bachelor 1-3\", \"Université L1-L3\", \"Université M1-M2\", \"Doctorant\"]\n",
        "# @markdown **Ce format de cours vous convient-il ? [0=Pas du tout | 10 Parfait]**\n",
        "Q2 <- 5 # @param {type:\"slider\", min:1, max:10, step:1}\n",
        "# @markdown **Avez-vous bien saisi les bases  ? [0=Pas du tout | 10 Parfait]**\n",
        "Q3 <- 5 # @param {type:\"slider\", min:1, max:10, step:1}\n",
        "# @markdown **Avez-vous des commentaires**\n",
        "commentaire <- \"Ecrire ici\" # @param {type:\"string\"}\n",
        "# @markdown ---\n",
        "# @markdown Cliquez sur Exécuter ▶ pour valider votre sondage. Merci!\n",
        "\n",
        "\n",
        "\n",
        "\n",
        "# Charger les packages nécessaires\n",
        "if (!require(httr)) install.packages(\"httr\", repos = \"http://cran.rstudio.com/\")\n",
        "if (!require(stringr)) install.packages(\"stringr\", repos = \"http://cran.rstudio.com/\")\n",
        "\n",
        "library(httr)\n",
        "library(stringr)\n",
        "\n",
        "# URL du Google Form\n",
        "form_url <- \"https://docs.google.com/forms/u/0/d/e/1FAIpQLScdlddezflctE_VwnY2hIJIbn1xhlBMoGaMqVcyV8IvCpa8Vw/formResponse\"\n",
        "\n",
        "# Correspondance des champs avec ceux du formulaire\n",
        "answers <- list(\n",
        "  \"entry.1649154935\" = CHAPITRE_COURANT,\n",
        "  \"entry.1030536647\" = Prenom,\n",
        "  \"entry.869694598\" = Nom,\n",
        "  \"entry.1554909193\" = as.character(Diplome_actuel),\n",
        "  \"entry.563756531\" = as.character(Q2),\n",
        "  \"entry.1963779262\" = as.character(Q3),\n",
        "  \"entry.1918008284\" = commentaire\n",
        ")\n",
        "\n",
        "# Envoyer les réponses\n",
        "response <- POST(url = form_url, body = answers, encode = \"form\")\n",
        "\n",
        "# Vérifier le statut de la soumission\n",
        "if (status_code(response) == 200) {\n",
        "  print(\"✅ Formulaire soumis avec succès !\")\n",
        "} else {\n",
        "  print(paste(\"❌ Échec de la soumission :\", status_code(response)))\n",
        "}\n"
      ]
    }
  ],
  "metadata": {
    "colab": {
      "provenance": [],
      "include_colab_link": true
    },
    "kernelspec": {
      "display_name": "R",
      "language": "R",
      "name": "ir"
    },
    "language_info": {
      "name": "R"
    }
  },
  "nbformat": 4,
  "nbformat_minor": 0
}