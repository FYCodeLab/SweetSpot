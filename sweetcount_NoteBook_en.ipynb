{
  "cells": [
    {
      "cell_type": "markdown",
      "metadata": {
        "id": "view-in-github",
        "colab_type": "text"
      },
      "source": [
        "<a href=\"https://colab.research.google.com/github/FYCodeLab/SweetSpot/blob/main/sweetcount_NoteBook_en.ipynb\" target=\"_parent\"><img src=\"https://colab.research.google.com/assets/colab-badge.svg\" alt=\"Open In Colab\"/></a>"
      ]
    },
    {
      "cell_type": "markdown",
      "metadata": {
        "id": "xldMD_Ijf4PM"
      },
      "source": [
        "# ![SweetSpot Intro](https://github.com/FYCodeLab/SweetSpot/blob/main/assets/GoogleColab/introen.png?raw=true)\n",
        "*An easy-to-use notebook that teaches you the R programming language, used in all research labs for calculations and graphs. Modify the code and experiment—it's the best way to learn.*\n"
      ]
    },
    {
      "cell_type": "markdown",
      "metadata": {
        "id": "UsmJPAQnXPQW"
      },
      "source": [
        "### 📚 **CONTEXT**\n",
        "\n",
        "On March 25, 2025, during the interdisciplinary conference  \n",
        "[« Artificial Intelligence and Biotechnologies »](https://www.supbiotech.fr/venir-nous-rencontrer/conference-ia-biotechnologies/),  \n",
        "a survey was conducted among students.\n",
        "\n",
        "---\n",
        "\n",
        "**🧠 The question asked was:**  \n",
        "*\"How many candies are in this jar?\"*\n",
        "\n",
        "---\n",
        "\n",
        "🎯 **Activity Objective:**  \n",
        "Verify the **wisdom of crowds** theory, which states that the **average of individual estimates**  \n",
        "can surprisingly approach the **true value**,  \n",
        "even if each individual estimate may be very inaccurate.\n",
        "\n",
        "📊 Results were analyzed using the *SweetSpot* program (in R)  \n",
        "to visualize response distributions, detect outliers,  \n",
        "and illustrate this phenomenon through an **interactive data science approach**.\n",
        "\n",
        "---\n",
        "\n",
        "![Candy Jar](https://raw.githubusercontent.com/FYCodeLab/SweetSpot/main/assets/GoogleColab/bocal6.jpg)\n"
      ]
    },
    {
      "cell_type": "markdown",
      "metadata": {
        "id": "MorrzcmuV9tx"
      },
      "source": [
        "### 📌 **Click here for a Google Colab user guide**\n"
      ]
    },
    {
      "cell_type": "markdown",
      "metadata": {
        "id": "fWjm8iHboxsH"
      },
      "source": [
        "![Exercise Instructions](https://raw.githubusercontent.com/FYCodeLab/SweetSpot/main/assets/GoogleColab/instructions4png.png) \\\n",
        "ㅤㅤㅤㅤㅤㅤㅤㅤㅤㅤㅤㅤㅤㅤ[💻 FYcodelab github](https://fycodelabs.github.io)\n"
      ]
    },
    {
      "cell_type": "markdown",
      "metadata": {
        "id": "v7P-wm9UM2I5"
      },
      "source": [
        "###‎\n",
        "<p align=\"left\">\n",
        "  <img src=\"https://github.com/FYCodeLab/SweetSpot/blob/main/assets/GoogleColab/package.png?raw=true\" alt=\"SweetSpot Intro\" width=\"600\">\n",
        "</p>\n"
      ]
    },
    {
      "cell_type": "markdown",
      "metadata": {
        "id": "8pOYKfVYSpsN"
      },
      "source": [
        "### **1. Install Required Packages**\n",
        "Click **[▶]** to run the code."
      ]
    },
    {
      "cell_type": "code",
      "execution_count": null,
      "metadata": {
        "id": "BkfyhlZvf4PP"
      },
      "outputs": [],
      "source": [
        "# 📦 Install required packages:\n",
        "# 📊 ggplot2 is an excellent package for creating elegant and powerful graphs in R\n",
        "# 🧹 dplyr is a handy library for easy data manipulation and filtering\n",
        "install.packages(\"ggplot2\")\n",
        "install.packages(\"dplyr\")"
      ]
    },
    {
      "cell_type": "markdown",
      "metadata": {
        "id": "MjIGPbT3qKVn"
      },
      "source": [
        "### **2. Load Packages into Memory**\n",
        "Click **[▶]** to run the code."
      ]
    },
    {
      "cell_type": "code",
      "execution_count": null,
      "metadata": {
        "id": "gEW__0_sf4PS"
      },
      "outputs": [],
      "source": [
        "# 📚 Load libraries for use\n",
        "library(ggplot2)\n",
        "library(dplyr)"
      ]
    },
    {
      "cell_type": "markdown",
      "metadata": {
        "id": "P72EvVwAwO39"
      },
      "source": [
        "##  <p align=\"left\">\n",
        "  <img src=\"https://github.com/FYCodeLab/SweetSpot/blob/main/assets/GoogleColab/data.png?raw=true\" alt=\"SweetSpot Intro\" width=\"500\">\n",
        "</p>\n"
      ]
    },
    {
      "cell_type": "markdown",
      "metadata": {
        "id": "qjLjLEe9f4PT"
      },
      "source": [
        "### **1. Download Data File**\n",
        "The file `DATASTUDENTS.TXT` contains data collected during the survey.  \n",
        "This notebook guides you through using R to analyze a dataset and create graphs.  \n",
        "Data is in a tab-separated text file (txt) named `DATASTUDENTS.TXT`, e.g.:  \n",
        "```\n",
        "Charles   145\n",
        "Henri  123\n",
        "```\n",
        "\n",
        "Import the file into Colab. To view files, click the **🗀** icon in the left panel.  \n",
        "To avoid manual uploads, we'll use R's `wget` function to download it automatically.\n"
      ]
    },
    {
      "cell_type": "code",
      "execution_count": null,
      "metadata": {
        "id": "qqykb-_Gtv4s"
      },
      "outputs": [],
      "source": [
        "# 📥 Download DATASTUDENTS.TXT from GitHub to Colab's working directory\n",
        "download.file(\"https://raw.githubusercontent.com/FYCodeLab/SweetSpot/main/assets/GoogleColab/DATASTUDENTS.TXT\",\n",
        "              destfile = \"DATASTUDENTS.TXT\")\n",
        "\n",
        "# ✅ User message\n",
        "cat(\"✅ DATASTUDENTS.TXT has been downloaded.\\n📁 Check the 'Files' panel (left in Colab) to confirm.\\n\")"
      ]
    },
    {
      "cell_type": "markdown",
      "metadata": {
        "id": "RFrPU-0lv1BH"
      },
      "source": [
        "### **2. Read the File**\n",
        "Once downloaded, read the file into memory using `read.table`.\n"
      ]
    },
    {
      "cell_type": "code",
      "execution_count": null,
      "metadata": {
        "id": "cnHbfXymf4PT"
      },
      "outputs": [],
      "source": [
        "# 📥 Read the text file (first line = column names, tab-separated)\n",
        "data <- read.table(\"DATASTUDENTS.TXT\", header = FALSE, sep = \"\\t\")\n",
        "\n",
        "# 🏷️ Rename columns to \"Name\" and \"Estimate\"\n",
        "colnames(data) <- c(\"Name\", \"Estimate\")\n",
        "\n",
        "# 🔢 Convert \"Estimate\" column to numeric\n",
        "data$Estimate <- as.numeric(data$Estimate)\n",
        "\n",
        "# 🔍 Filter valid data (non-missing and >0)\n",
        "data <- data[!is.na(data$Estimate) & data$Estimate > 0, ]\n",
        "\n",
        "if (nrow(data) > 0) {\n",
        "  cat(\"✅ Data loaded successfully with\", nrow(data), \"valid rows.\\n\")\n",
        "}"
      ]
    },
    {
      "cell_type": "markdown",
      "metadata": {
        "id": "ML-50eO3ErOA"
      },
      "source": [
        "#<p align=\"center\">\n",
        "  <img src=\"https://github.com/FYCodeLab/SweetSpot/blob/main/assets/GoogleColab/calcul2.png?raw=true\" alt=\"SweetSpot Intro\" width=\"500\">\n",
        "</p>\n"
      ]
    },
    {
      "cell_type": "markdown",
      "metadata": {
        "id": "Ft88b2GLEufN"
      },
      "source": [
        "*Let’s perform some calculations. With R, it’s straightforward...*"
      ]
    },
    {
      "cell_type": "markdown",
      "metadata": {
        "id": "brbM9bV1t59g"
      },
      "source": [
        "### **1. Basic Calculations**"
      ]
    },
    {
      "cell_type": "code",
      "execution_count": null,
      "metadata": {
        "id": "gNpQxYFjE2Cu"
      },
      "outputs": [],
      "source": [
        "# 📊 Compute basic statistics\n",
        "n_responses <- nrow(data)\n",
        "mean_estimate <- mean(data$Estimate)\n",
        "median_estimate <- median(data$Estimate)\n",
        "min_estimate <- min(data$Estimate)\n",
        "max_estimate <- max(data$Estimate)\n",
        "\n",
        "# ✨ Display results\n",
        "cat(\"🧮 Total responses:\", n_responses, \"\\n\\n\")\n",
        "cat(\"❓ What is the average estimate?\\n➡️ Average:\", round(mean_estimate, 0), \"\\n\\n\")\n",
        "cat(\"❓ What is the median estimate?\\n➡️ Median:\", round(median_estimate, 0), \"\\n\\n\")\n",
        "cat(\"❓ What is the smallest estimate?\\n➡️ Minimum:\", min_estimate, \"\\n\\n\")\n",
        "cat(\"❓ What is the largest estimate?\\n➡️ Maximum:\", max_estimate, \"\\n\")"
      ]
    },
    {
      "cell_type": "markdown",
      "metadata": {
        "id": "jZ8rsZcME2rP"
      },
      "source": [
        "### **2. Data Analysis: Who Won?**\n",
        "Now let’s write a simple program to find students who guessed the exact number of candies! The true number was **247**."
      ]
    },
    {
      "cell_type": "code",
      "execution_count": null,
      "metadata": {
        "id": "40hp8Z_7FcHH"
      },
      "outputs": [],
      "source": [
        "# 🧠 Objective:\n",
        "# - Prompt the user to enter the true number of candies\n",
        "# - Find students who guessed exactly that number\n",
        "\n",
        "# 🟢 1. Get true number\n",
        "true_number <- as.numeric(readline(prompt = \"🍬 Enter the true number of candies: \"))\n",
        "\n",
        "# 🔍 2. Find matching estimates\n",
        "winners <- data[data$Estimate == true_number, \"Name\"]\n",
        "\n",
        "# 🥳 3. Display results\n",
        "if (length(winners) > 0) {\n",
        "  cat(\"✅ Congratulations to these students who guessed\", true_number, \"correctly!\\n🏆\", paste(winners, collapse = \", \"), \"\\n\")\n",
        "} else {\n",
        "  cat(\"😕 No one guessed\", true_number, \"correctly.\\n\")\n",
        "}"
      ]
    },
    {
      "cell_type": "markdown",
      "metadata": {
        "id": "tT-eS5FHxdqH"
      },
      "source": [
        "#<p align=\"center\">\n",
        "  <img src=\"https://github.com/FYCodeLab/SweetSpot/blob/main/assets/GoogleColab/graphes.png?raw=true\" alt=\"SweetSpot Intro\" width=\"500\">\n",
        "</p>\n"
      ]
    },
    {
      "cell_type": "markdown",
      "metadata": {
        "id": "zH4QbjUIuNyU"
      },
      "source": [
        "*`ggplot` is ideal for scientific-quality graphs. Experiment with colors, scales, etc.*"
      ]
    },
    {
      "cell_type": "markdown",
      "metadata": {
        "id": "cS1fVNqcf4PU"
      },
      "source": [
        "## **📊 Graph 1: Scatter Plot with Mean and Median**\n",
        "💡 Try changing point colors, titles..."
      ]
    },
    {
      "cell_type": "code",
      "execution_count": null,
      "metadata": {
        "id": "9idaJmFlf4PV"
      },
      "outputs": [],
      "source": [
        "# 📊 Add jitter to Y-axis for visibility\n",
        "data$Y <- jitter(rep(1, nrow(data)), amount = 0.2)\n",
        "\n",
        "# 🖼️ Create plot\n",
        "ggplot(data, aes(x = Estimate, y = Y)) +\n",
        "  geom_point(color = \"purple\", size = 4) +\n",
        "  geom_vline(xintercept = mean_estimate, color = \"red\", linetype = \"dashed\") +\n",
        "  geom_vline(xintercept = median_estimate, color = \"blue\", linetype = \"dashed\") +\n",
        "  labs(\n",
        "    title = \"Each Point = One Estimate\",\n",
        "    subtitle = \"Red = Mean | Blue = Median\",\n",
        "    x = \"Candy Count Estimate\",\n",
        "    y = NULL\n",
        "  ) +\n",
        "  theme_minimal(base_size = 16)"
      ]
    },
    {
      "cell_type": "markdown",
      "metadata": {
        "id": "kLj4AcL_f4PV"
      },
      "source": [
        "## **📊 Graph 2: Histogram**\n",
        "💡 Experiment with bin widths, colors, titles."
      ]
    },
    {
      "cell_type": "code",
      "execution_count": null,
      "metadata": {
        "id": "oLRCkZ8tzNGT"
      },
      "outputs": [],
      "source": [
        "ggplot(data, aes(x = Estimate)) +\n",
        "  geom_histogram(\n",
        "    binwidth = 70,\n",
        "    fill = \"gold\",\n",
        "    color = \"darkblue\",\n",
        "    alpha = 0.7\n",
        "  ) +\n",
        "  geom_vline(xintercept = mean_estimate, color = \"red\", linetype = \"solid\", linewidth = 1.2) +\n",
        "  geom_vline(xintercept = median_estimate, color = \"blue\", linetype = \"dotted\", linewidth = 1.2) +\n",
        "  labs(\n",
        "    title = \"Distribution of Estimates\",\n",
        "    subtitle = \"Red = Mean | Blue = Median\",\n",
        "    x = \"Candy Count Estimate\",\n",
        "    y = \"Number of Responses\",\n",
        "    tag = \"Figure A\"\n",
        "  ) +\n",
        "  theme_minimal(base_size = 14) +\n",
        "  theme(\n",
        "    plot.title = element_text(size = 20, face = \"bold\", color = \"red\", hjust = 0.5),\n",
        "    plot.subtitle = element_text(size = 15, face = \"bold\", color = \"darkblue\", hjust = 0.5)\n",
        "  )"
      ]
    },
    {
      "cell_type": "markdown",
      "metadata": {
        "id": "tL0s6R7EvRST"
      },
      "source": [
        "###![CHAPTER 1](https://github.com/FYCodeLab/coding-intro/blob/main/assets/INTRO-Banner-Sondage.png?raw=true)\n",
        "\n",
        "This notebook is part of a series for biology beginners: [💻 FYcodelab github](https://fycodelabs.github.io)  \n",
        "Please complete the anonymous survey below."
      ]
    },
    {
      "cell_type": "code",
      "execution_count": null,
      "metadata": {
        "cellView": "form",
        "id": "eBmvSiS1vTcj"
      },
      "outputs": [],
      "source": [
        "# @title Anonymous Survey\n",
        "# @markdown **Short Survey**\\\n",
        "# @markdown Please fill in the information below and click Execute ▶ to submit your responses.\n",
        "\n",
        "CHAPITRE_COURANT <- \"sweetspot_en\"\n",
        "Prenom <- \"Enter here\" # @param {type:\"string\"}\n",
        "Nom <- \"Enter here\" # @param {type:\"string\"}\n",
        "Diplome_actuel = 'Professionnel/Diplômé' # @param [\"Professionnel/Diplômé\", \"Prepa Bac+1-2\", \"Inge Bac+1-3\",  \"Bachelor 1-3\", \"Université L1-L3\", \"Université M1-M2\", \"Doctorant\"]\n",
        "# @markdown **Does this course format suit you? [0 = Not at all | 10 = Perfect]**\n",
        "Q2 <- 5 # @param {type:\"slider\", min:1, max:10, step:1}\n",
        "# @markdown **Did you grasp the basics well? [0 = Not at all | 10 = Perfect]**\n",
        "Q3 <- 5 # @param {type:\"slider\", min:1, max:10, step:1}\n",
        "# @markdown **Do you have any comments?**\n",
        "commentaire <- \"Enter here\" # @param {type:\"string\"}\n",
        "# @markdown ---\n",
        "# @markdown Click Execute ▶ to submit your survey. Thank you!\n",
        "\n",
        "\n",
        "\n",
        "\n",
        "# Load the necessary packages\n",
        "if (!require(httr)) install.packages(\"httr\", repos = \"http://cran.rstudio.com/\")\n",
        "if (!require(stringr)) install.packages(\"stringr\", repos = \"http://cran.rstudio.com/\")\n",
        "\n",
        "library(httr)\n",
        "library(stringr)\n",
        "\n",
        "# URL of the Google Form\n",
        "form_url <- \"https://docs.google.com/forms/u/0/d/e/1FAIpQLScdlddezflctE_VwnY2hIJIbn1xhlBMoGaMqVcyV8IvCpa8Vw/formResponse\"\n",
        "\n",
        "# Map the fields to those in the form\n",
        "answers <- list(\n",
        "  \"entry.1649154935\" = CHAPITRE_COURANT,\n",
        "  \"entry.1030536647\" = Prenom,\n",
        "  \"entry.869694598\" = Nom,\n",
        "  \"entry.1554909193\" = as.character(Diplome_actuel),\n",
        "  \"entry.563756531\" = as.character(Q2),\n",
        "  \"entry.1963779262\" = as.character(Q3),\n",
        "  \"entry.1918008284\" = commentaire\n",
        ")\n",
        "\n",
        "# Send the responses\n",
        "response <- POST(url = form_url, body = answers, encode = \"form\")\n",
        "\n",
        "# Check the submission status\n",
        "if (status_code(response) == 200) {\n",
        "  print(\"✅ Form submitted successfully!\")\n",
        "} else {\n",
        "  print(paste(\"❌ Submission failed:\", status_code(response)))\n",
        "}\n"
      ]
    }
  ],
  "metadata": {
    "colab": {
      "provenance": [],
      "collapsed_sections": [
        "MorrzcmuV9tx"
      ],
      "include_colab_link": true
    },
    "kernelspec": {
      "display_name": "R",
      "language": "R",
      "name": "ir"
    },
    "language_info": {
      "name": "R"
    }
  },
  "nbformat": 4,
  "nbformat_minor": 0
}